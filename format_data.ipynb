{
 "cells": [
  {
   "cell_type": "code",
   "execution_count": 115,
   "metadata": {},
   "outputs": [],
   "source": [
    "%matplotlib inline\n",
    "\n",
    "import os\n",
    "import numpy as np\n",
    "import pandas as pd"
   ]
  },
  {
   "cell_type": "code",
   "execution_count": 116,
   "metadata": {},
   "outputs": [
    {
     "data": {
      "text/plain": [
       "((106574, 53), (162, 5), (106577, 519), (13132, 250))"
      ]
     },
     "execution_count": 116,
     "metadata": {},
     "output_type": "execute_result"
    }
   ],
   "source": [
    "# Load metadata and features.  \n",
    "genres = pd.read_csv('fma_metadata/genres.csv', low_memory=False, skiprows=1)  \n",
    "tracks = pd.read_csv('fma_metadata/tracks.csv', low_memory=False, skiprows=2)\n",
    "features = pd.read_csv('fma_metadata/features.csv', low_memory=False)\n",
    "echonest = pd.read_csv('fma_metadata/echonest.csv', low_memory=False)\n",
    "\n",
    "\n",
    "# np.testing.assert_array_equal(features.index, tracks.index)\n",
    "# assert echonest.index.isin(tracks.index).all()\n",
    "\n",
    "tracks.shape, genres.shape, features.shape, echonest.shape"
   ]
  },
  {
   "cell_type": "code",
   "execution_count": 117,
   "metadata": {},
   "outputs": [],
   "source": [
    "# print(tracks)"
   ]
  },
  {
   "cell_type": "code",
   "execution_count": 118,
   "metadata": {},
   "outputs": [
    {
     "name": "stdout",
     "output_type": "stream",
     "text": [
      "2\n",
      "3293557\n",
      "3541.3102069923248\n",
      "106574\n"
     ]
    }
   ],
   "source": [
    "# This cell constructs a dict that maps track_id to listen_count for entire entire FMA dataset\n",
    "listens = tracks['Unnamed: 44']\n",
    "track_ids = tracks['track_id']\n",
    "print(np.min(listens))\n",
    "print(np.max(listens))\n",
    "print(np.mean(listens))\n",
    "ids_to_listens = dict(zip(track_ids, listens))\n",
    "print(len(ids_to_listens))"
   ]
  },
  {
   "cell_type": "code",
   "execution_count": 120,
   "metadata": {},
   "outputs": [],
   "source": [
    "# This cell constructs a matrix where each row = [track_id, listen_count, spectrogram_image_file_name] \n",
    "# for our subset of data downloaded from FMA\n",
    "# TODO: iterate over fnames of spectrogram files, not fma_small mp3 files\n",
    "final_dataset = np.matrix(np.zeros((0, 3)))\n",
    "for fname in os.listdir('fma_small/000/'):\n",
    "    parts = fname.split(\".\")\n",
    "    track_id = int(parts[0])\n",
    "    listen_count = ids_to_listens[track_id]\n",
    "    row = np.array([track_id, listen_count, fname])\n",
    "    final_dataset = np.vstack((final_dataset, row))\n",
    "\n",
    "# print(final_dataset)\n",
    "\n",
    "# TODO: Comment out these lines, change file_path, and output csv to correct location\n",
    "#df = pd.DataFrame(final_dataset)\n",
    "#df.to_csv(\"file_path.csv\", header=None)"
   ]
  },
  {
   "cell_type": "code",
   "execution_count": null,
   "metadata": {},
   "outputs": [],
   "source": []
  }
 ],
 "metadata": {
  "kernelspec": {
   "display_name": "Python 3",
   "language": "python",
   "name": "python3"
  },
  "language_info": {
   "codemirror_mode": {
    "name": "ipython",
    "version": 3
   },
   "file_extension": ".py",
   "mimetype": "text/x-python",
   "name": "python",
   "nbconvert_exporter": "python",
   "pygments_lexer": "ipython3",
   "version": "3.6.4"
  }
 },
 "nbformat": 4,
 "nbformat_minor": 2
}
