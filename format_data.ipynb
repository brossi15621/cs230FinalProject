{
 "cells": [
  {
   "cell_type": "code",
   "execution_count": null,
   "metadata": {},
   "outputs": [],
   "source": [
    "%matplotlib inline\n",
    "\n",
    "import os\n",
    "import numpy as np\n",
    "import pandas as pd\n",
    "import imageio\n",
    "from PIL import Image\n",
    "import matplotlib.pyplot as plt"
   ]
  },
  {
   "cell_type": "code",
   "execution_count": null,
   "metadata": {},
   "outputs": [],
   "source": [
    "# Load metadata and features.  \n",
    "genres = pd.read_csv('fma_metadata/genres.csv', low_memory=False, skiprows=1)  \n",
    "tracks = pd.read_csv('fma_metadata/tracks.csv', low_memory=False, skiprows=2)\n",
    "features = pd.read_csv('fma_metadata/features.csv', low_memory=False)\n",
    "echonest = pd.read_csv('fma_metadata/echonest.csv', low_memory=False)\n",
    "\n",
    "tracks.shape, genres.shape, features.shape, echonest.shape"
   ]
  },
  {
   "cell_type": "code",
   "execution_count": null,
   "metadata": {
    "scrolled": true
   },
   "outputs": [],
   "source": [
    "# Note: This is an earlier attempt at normalizing our popularity ratings on a 0 to 1 scale\n",
    "# before deciding to make 3 different popularity classes\n",
    "\n",
    "# # This cell constructs a dict that maps track_id to listen_count for entire entire FMA dataset\n",
    "# listens = tracks['Unnamed: 44']\n",
    "# track_ids = tracks['track_id']\n",
    "# # print(np.min(listens))\n",
    "# # print(np.max(listens))\n",
    "# # print(np.mean(listens))\n",
    "# listens_normalized = np.zeros((len(listens)))\n",
    "# count_outliers = 0\n",
    "# count_popular_logged = 0\n",
    "# count_3500 = 0\n",
    "# count_1500 = 0\n",
    "# count_middle = 0\n",
    "# for i in range(0, len(listens)):\n",
    "#     if listens[i] > 100000:\n",
    "#         listens_normalized[i] = 1\n",
    "#         count_outliers = count_outliers + 1\n",
    "#     elif listens[i] >= 5000:\n",
    "#         inter = np.log(listens[i])\n",
    "#         listens_normalized[i] = (((inter - np.log(5000)) / (np.log(100000) - np.log(5000))) * 0.5) + 0.5\n",
    "#         count_popular_logged = count_popular_logged + 1\n",
    "#     else:\n",
    "#         inter = np.log(listens[i])\n",
    "#         #listens_normalized[i] = (inter / np.log(5000)) * 0.5\n",
    "#         listens_normalized[i] = ((np.log(max(200, listens[i])) - np.log(200)) / (np.log(5000) - np.log(200))) * 0.5\n",
    "\n",
    "# # listens_normalized = np.sort(listens_normalized)\n",
    "# # listens = np.sort(listens)\n",
    "# ids_to_listens = dict(zip(track_ids, listens_normalized))\n",
    "# print(len(ids_to_listens))\n",
    "# plt.plot(listens_normalized)\n",
    "# plt.show()\n",
    "# plt.plot(listens)\n",
    "# plt.show()"
   ]
  },
  {
   "cell_type": "code",
   "execution_count": null,
   "metadata": {},
   "outputs": [],
   "source": [
    "# This cell constructs a dict that maps track_id to popularity_class for entire entire FMA dataset\n",
    "\n",
    "listens = tracks['Unnamed: 44']\n",
    "track_ids = tracks['track_id']\n",
    "\n",
    "count_high_pop = 0\n",
    "count_med_pop = 0\n",
    "count_low_pop = 0\n",
    "\n",
    "listens_classes = np.zeros((len(listens)))\n",
    "\n",
    "for i in range(0, len(listens)):\n",
    "    if listens[i] > 5000:\n",
    "        listens_classes[i] = 2\n",
    "        count_high_pop = count_high_pop + 1\n",
    "    elif listens[i] >= 1500:\n",
    "        listens_classes[i] = 1\n",
    "        count_med_pop = count_med_pop + 1\n",
    "    else:\n",
    "        listens_classes[i] = 0\n",
    "        count_low_pop = count_low_pop + 1\n",
    "        \n",
    "\n",
    "print('precent of data low-pop:', float(count_low_pop)/(count_high_pop + count_med_pop + count_low_pop))       \n",
    "print('precent of data med-pop:', float(count_med_pop)/(count_high_pop + count_med_pop + count_low_pop))       \n",
    "print('precent of data high-pop:', float(count_high_pop)/(count_high_pop + count_med_pop + count_low_pop))\n",
    "\n",
    "ids_to_pop = dict(zip(track_ids, listens_classes))\n",
    "print(len(ids_to_pop))"
   ]
  },
  {
   "cell_type": "code",
   "execution_count": null,
   "metadata": {
    "scrolled": false
   },
   "outputs": [],
   "source": [
    "test_image = imageio.imread('spectrograms/001270.png')\n",
    "plt.imshow(test_image, cmap='gray')"
   ]
  },
  {
   "cell_type": "code",
   "execution_count": null,
   "metadata": {},
   "outputs": [],
   "source": [
    "# This cell constructs a matrix where each row = [track_id, popularity_class, spectrogram_image_file_name] \n",
    "# for our subset of data downloaded from FMA\n",
    "\n",
    "final_dataset = np.matrix(np.zeros((0, 3)))\n",
    "\n",
    "for fname in os.listdir('spectrograms'):\n",
    "    parts = fname.split(\".\")\n",
    "    track_id = int(parts[0])\n",
    "    listen_count = ids_to_pop[track_id]\n",
    "    fname = 'spectrograms/' + fname\n",
    "    row = np.array([track_id, listen_count, fname])\n",
    "    final_dataset = np.vstack((final_dataset, row))\n",
    "\n",
    "print(final_dataset.shape)\n",
    "print(final_dataset)\n",
    "\n",
    "# write to csv file for later use\n",
    "df = pd.DataFrame(final_dataset)\n",
    "df.to_csv(\"processed_dataset.csv\", header=None)"
   ]
  },
  {
   "cell_type": "code",
   "execution_count": null,
   "metadata": {},
   "outputs": [],
   "source": []
  }
 ],
 "metadata": {
  "kernelspec": {
   "display_name": "Python 3",
   "language": "python",
   "name": "python3"
  },
  "language_info": {
   "codemirror_mode": {
    "name": "ipython",
    "version": 3
   },
   "file_extension": ".py",
   "mimetype": "text/x-python",
   "name": "python",
   "nbconvert_exporter": "python",
   "pygments_lexer": "ipython3",
   "version": "3.6.4"
  }
 },
 "nbformat": 4,
 "nbformat_minor": 2
}
