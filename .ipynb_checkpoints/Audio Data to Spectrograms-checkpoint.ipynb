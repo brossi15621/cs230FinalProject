{
 "cells": [
  {
   "cell_type": "code",
   "execution_count": 1,
   "metadata": {},
   "outputs": [],
   "source": [
    "%matplotlib inline\n",
    "\n",
    "import os\n",
    "import csv\n",
    "import IPython.display as ipd\n",
    "import numpy as np\n",
    "import pandas as pd\n",
    "import matplotlib.pyplot as plt\n",
    "import seaborn as sns\n",
    "import sklearn as skl\n",
    "import sklearn.utils, sklearn.preprocessing, sklearn.decomposition, sklearn.svm\n",
    "import scipy\n",
    "from scipy import signal\n",
    "from scipy.io import wavfile\n",
    "from shutil import copyfile\n",
    "import subprocess\n",
    "from PIL import Image\n",
    "\n",
    "\n",
    "import matplotlib.pyplot as plt\n",
    "plt.rcParams['figure.figsize'] = (17, 5)"
   ]
  },
  {
   "cell_type": "code",
   "execution_count": 2,
   "metadata": {},
   "outputs": [],
   "source": [
    "def mp3ToWav(directory, destination):\n",
    "    for root, dir, files in os.walk(directory):\n",
    "        for item in files:\n",
    "            if (item.endswith(\".mp3\")):\n",
    "                command = ['ffmpeg', '-v', '0', '-i', os.path.join(root, item), os.path.join(destination, str(item.split(\".\")[0])+ \".wav\")]\n",
    "                subprocess.call(command)\n",
    "                \n",
    "def wavToSpectogram(directory, destination):\n",
    "    for root, dir, files in os.walk(directory):\n",
    "        for item in files:\n",
    "            if (item.endswith(\".wav\")):\n",
    "                \n",
    "                # prepping wav file data\n",
    "                fs, y = wavfile.read(directory + '/' + item)\n",
    "                x = y[0:fs*10]\n",
    "                amp = .5\n",
    "                if (x.shape == (fs*10, 2)):\n",
    "                    #print(\"stereo\")\n",
    "                    x_mono = (x[:,0]+x[:,1])*amp\n",
    "                else:\n",
    "                    #print(\"mono\")\n",
    "                    x_mono = x\n",
    "                \n",
    "                # compute and save spectrogram\n",
    "                f, t, Sxx = signal.spectrogram(x_mono, fs)\n",
    "                plt.pcolormesh(t, f, np.log(Sxx))\n",
    "                base = os.path.splitext(item)[0]\n",
    "                plt.axis('off')\n",
    "                plt.savefig(destination + '/' + base +'.png', bbox_inches='tight')\n",
    "                \n",
    "                # compress image\n",
    "                image_file = destination + '/' + base +'.png'\n",
    "                im = Image.open(image_file)\n",
    "                im.thumbnail((335,102), Image.ANTIALIAS)\n",
    "                im.save(destination + '/' + base +'.png')"
   ]
  },
  {
   "cell_type": "code",
   "execution_count": null,
   "metadata": {},
   "outputs": [],
   "source": [
    "mp3ToWav('fma_small', 'wav_files')\n",
    "wavToSpectogram('wav_files', 'spectrograms')"
   ]
  }
 ],
 "metadata": {
  "kernelspec": {
   "display_name": "Python 3",
   "language": "python",
   "name": "python3"
  },
  "language_info": {
   "codemirror_mode": {
    "name": "ipython",
    "version": 3
   },
   "file_extension": ".py",
   "mimetype": "text/x-python",
   "name": "python",
   "nbconvert_exporter": "python",
   "pygments_lexer": "ipython3",
   "version": "3.6.4"
  }
 },
 "nbformat": 4,
 "nbformat_minor": 2
}
