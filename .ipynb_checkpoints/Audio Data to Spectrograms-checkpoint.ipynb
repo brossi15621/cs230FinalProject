{
 "cells": [
  {
   "cell_type": "code",
   "execution_count": null,
   "metadata": {},
   "outputs": [],
   "source": [
    "%matplotlib inline\n",
    "\n",
    "import os\n",
    "import csv\n",
    "import IPython.display as ipd\n",
    "import numpy as np\n",
    "import pandas as pd\n",
    "import matplotlib.pyplot as plt\n",
    "import seaborn as sns\n",
    "import sklearn as skl\n",
    "import sklearn.utils, sklearn.preprocessing, sklearn.decomposition, sklearn.svm\n",
    "import scipy\n",
    "from scipy import signal\n",
    "from scipy.io import wavfile\n",
    "from shutil import copyfile\n",
    "import subprocess\n",
    "from PIL import Image\n",
    "\n",
    "\n",
    "import matplotlib.pyplot as plt\n",
    "plt.rcParams['figure.figsize'] = (17, 5)"
   ]
  },
  {
   "cell_type": "code",
   "execution_count": null,
   "metadata": {},
   "outputs": [],
   "source": [
    "##### Old functions for converting mp3 to wav and computing spectrograms #####\n",
    "\n",
    "\n",
    "# # this function converts all of our mp3 data to .wav files so we can calculate spectrograms\n",
    "# def mp3ToWav(directory, destination):\n",
    "#     for root, dir, files in os.walk(directory):\n",
    "#         for item in files:\n",
    "#             if (item.endswith(\".mp3\")):\n",
    "#                 command = ['ffmpeg', '-v', '0', '-i', os.path.join(root, item), os.path.join(destination, str(item.split(\".\")[0])+ \".wav\")]\n",
    "#                 subprocess.call(command)\n",
    "                \n",
    "# # this function computes the spectrogram from .wav file               \n",
    "# def wavToSpectrogram(directory, destination):\n",
    "# #     for root, dir, files in os.walk(directory):\n",
    "# #         for item in files:\n",
    "# #     print(directory)\n",
    "#     for item in os.listdir(directory):\n",
    "#         if (item.endswith(\"2.wav\")):\n",
    "#             base = os.path.splitext(item)[0]\n",
    "# #             print(destination + '/' + base +'.png')\n",
    "#             # make sure spectrogram doesn't already exist\n",
    "#             if not os.path.isfile(destination + '/' + base +'.png'):\n",
    "# #                 print('file doesnt already exists')\n",
    "#                 # prepping wav file data\n",
    "#                 fs, y = wavfile.read(directory + '/' + item)\n",
    "#                 x = y[0:fs*10]\n",
    "#                 amp = .5\n",
    "#                 if (x.shape == (fs*10, 2)):\n",
    "#                     #print(\"stereo\")\n",
    "#                     x_mono = (x[:,0]+x[:,1])*amp\n",
    "#                 else:\n",
    "#                     #print(\"mono\")\n",
    "#                     x_mono = x\n",
    "\n",
    "#                 # compute and save spectrogram\n",
    "#                 f, t, Sxx = signal.spectrogram(x_mono, fs)\n",
    "#                 plt.pcolormesh(t, f, np.log(Sxx))\n",
    "#                 plt.axis('off')\n",
    "#                 plt.savefig(destination + '/' + base +'.png', bbox_inches='tight')\n",
    "\n",
    "#                 # compress image\n",
    "#                 image_file = destination + '/' + base +'.png'\n",
    "#                 im = Image.open(image_file)\n",
    "#                 im.thumbnail((335,102), Image.ANTIALIAS)\n",
    "# #                 print('saving image at: ', destination + '/' + base +'.png' )\n",
    "#                 im.save(destination + '/' + base +'.png')"
   ]
  },
  {
   "cell_type": "code",
   "execution_count": null,
   "metadata": {},
   "outputs": [],
   "source": [
    "# Builds list of wav files that still do not have a computed spectrogram associated with them\n",
    "def build_wavs_list():\n",
    "    wavs_to_convert = []\n",
    "\n",
    "    for fname in os.listdir('wav_files'):\n",
    "        if (fname.endswith(\".wav\")):\n",
    "                base = os.path.splitext(fname)[0]\n",
    "                # make sure spectrogram doesn't already exist\n",
    "                if not os.path.isfile('spectrograms' + '/' + base +'.png'):\n",
    "                    wavs_to_convert.append('wav_files/' + fname)\n",
    "                \n",
    "    return wavs_to_convert"
   ]
  },
  {
   "cell_type": "code",
   "execution_count": null,
   "metadata": {},
   "outputs": [],
   "source": [
    "# iterates over remaining wav files and computes/saves associated spectrogram (first 10s, scaled down)\n",
    "# at spectrograms/[song_id].png\n",
    "def wav_to_spectrogram_v2(wavs_list, destination):\n",
    "    for wav_file_name in wavs_list:\n",
    "        base = os.path.splitext(wav_file_name)[0].split('/')[1]\n",
    "        # prepping wav file data\n",
    "        fs, y = wavfile.read(wav_file_name)\n",
    "        x = y[0:fs*10]\n",
    "        amp = .5\n",
    "        if (x.shape == (fs*10, 2)):\n",
    "            x_mono = (x[:,0]+x[:,1])*amp\n",
    "        else:\n",
    "            x_mono = x\n",
    "\n",
    "        # compute and save spectrogram\n",
    "        f, t, Sxx = signal.spectrogram(x_mono, fs)\n",
    "        plt.pcolormesh(t, f, np.log(Sxx))\n",
    "        plt.axis('off')\n",
    "        plt.savefig(destination + '/' + base +'.png', bbox_inches='tight')\n",
    "\n",
    "        # compress image\n",
    "        image_file = destination + '/' + base +'.png'\n",
    "        im = Image.open(image_file)\n",
    "        im.thumbnail((335,102), Image.ANTIALIAS)\n",
    "        im.save(destination + '/' + base +'.png')\n",
    "    \n",
    "        # remove wav_file_name from wavs_list. Note that wav_file_name guaranteed to be unique so can use 'remove'\n",
    "        wavs_list.remove(wav_file_name)\n",
    "    \n",
    "    return wavs_list"
   ]
  },
  {
   "cell_type": "code",
   "execution_count": null,
   "metadata": {},
   "outputs": [],
   "source": [
    "# convert remaining wav files into spectrograms\n",
    "wavs_to_convert = build_wavs_list()\n",
    "wavs_to_convert = wav_to_spectrogram_v2(wavs_to_convert, 'spectrograms')"
   ]
  },
  {
   "cell_type": "code",
   "execution_count": null,
   "metadata": {},
   "outputs": [],
   "source": [
    "# old call to mp3ToWav\n",
    "# mp3ToWav('fma_small', 'wav_files')"
   ]
  },
  {
   "cell_type": "code",
   "execution_count": null,
   "metadata": {},
   "outputs": [],
   "source": [
    "# old call to convert wav files to spectrograms\n",
    "# wavToSpectrogram('wav_files', 'spectrograms')"
   ]
  },
  {
   "cell_type": "code",
   "execution_count": null,
   "metadata": {},
   "outputs": [],
   "source": [
    "# make sure that each spectrogram is of the correct size\n",
    "for fname in os.listdir('spectrograms'):\n",
    "    image = Image.open('spectrograms/' + fname)\n",
    "    if image.size != (159, 102):\n",
    "        print('image is not of size (159, 102)', fname, image.size)\n",
    "        os.remove('spectrograms/' + fname)\n",
    "print('Done checking image sizes')"
   ]
  },
  {
   "cell_type": "code",
   "execution_count": null,
   "metadata": {},
   "outputs": [],
   "source": []
  },
  {
   "cell_type": "code",
   "execution_count": null,
   "metadata": {},
   "outputs": [],
   "source": []
  }
 ],
 "metadata": {
  "kernelspec": {
   "display_name": "Python 3",
   "language": "python",
   "name": "python3"
  },
  "language_info": {
   "codemirror_mode": {
    "name": "ipython",
    "version": 3
   },
   "file_extension": ".py",
   "mimetype": "text/x-python",
   "name": "python",
   "nbconvert_exporter": "python",
   "pygments_lexer": "ipython3",
   "version": "3.6.4"
  }
 },
 "nbformat": 4,
 "nbformat_minor": 2
}
